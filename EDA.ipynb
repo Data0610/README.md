import pandas as pd
import plotly.express as px

# Read the dataset
car_data = pd.read_csv('vehicles_us.csv')  # Make sure the file is in the correct directory

# Display the first few rows of the dataframe to understand the data
print(car_data.head())

# Create a histogram
fig = px.histogram(car_data, x="odometer", title="Odometer Histogram")  # Replace "odometer" with the column you want to analyze
fig.show()  # Display the chart

# (Optional) Create a scatter plot
fig_scatter = px.scatter(car_data, x="odometer", y="price", title="Scatter Plot: Odometer vs Price")  # Change the column as needed
fig_scatter.show()  # Show the scatter chart

