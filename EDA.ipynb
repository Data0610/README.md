import pandas as pd
import plotly.express as px

# Leer el conjunto de datos
car_data = pd.read_csv('vehicles_us.csv')  # Asegúrate de que el archivo esté en el directorio correcto

# Mostrar las primeras filas del dataframe para entender los datos
print(car_data.head())

# Crear un histograma
fig = px.histogram(car_data, x="odometer", title="Histograma de Odometer")  # Cambia "odometer" por la columna que quieras analizar
fig.show()  # Mostrar el gráfico

# (Opcional) Crear un gráfico de dispersión
fig_scatter = px.scatter(car_data, x="odometer", y="price", title="Gráfico de Dispersión: Odometer vs Price")  # Cambia la columna según sea necesario
fig_scatter.show()  # Mostrar el gráfico de dispersión
